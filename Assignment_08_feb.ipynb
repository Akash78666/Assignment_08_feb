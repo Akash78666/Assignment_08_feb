{
 "cells": [
  {
   "cell_type": "code",
   "execution_count": null,
   "id": "5cc67c70-0ada-4c2f-ab19-73763d460ca2",
   "metadata": {},
   "outputs": [],
   "source": [
    "#What is Abstraction in OOps? Explain with an example?\n",
    "# Ans:-Abstraction in python is defined as a process of handling complexity by hiding unnecessary information from the user. This is one of the core concepts of object-oriented programming (OOP) languages.\n",
    "# Example:-Additionally, some real-world examples of abstraction include:\n",
    "Baking a cake. If you are following a recipe to bake a cake, you are using abstraction. ...\n",
    "Using known color and outfit combinations to dress in the morning. Another real-world example of an abstraction is getting dressed in the morning. ...\n",
    "Driving to work."
   ]
  },
  {
   "cell_type": "code",
   "execution_count": null,
   "id": "cbfdb0e9-6ca7-4c11-99a4-d147b2fdf5f1",
   "metadata": {},
   "outputs": [],
   "source": [
    "# Differentiate between Abstraction and Encapsulation?\n",
    "# Abstraction is hiding the details and implementation of the code. Encapsulation is hiding the data and controlling the visibility of the code\n",
    "# Encapsulation:-\n",
    "#for example, when you create a class, it means you are implementing encapsulation. A class is an example of encapsulation as it binds all the data members (instance variables) and methods into a single unit.\n",
    "#Abstraction:-\n",
    "#Let's take another example - When we use the TV remote to increase the volume. We don't know how pressing a key increases the volume of the TV. We only know to press the \"+\" button to increase the volume. That is exactly the abstraction that works in the object-oriented conc"
   ]
  },
  {
   "cell_type": "code",
   "execution_count": null,
   "id": "5c5c9561-4cc4-4899-b6fc-16bb00ff9007",
   "metadata": {},
   "outputs": [],
   "source": [
    "#What is abc module in python? Why is it used?\n",
    "#Ans:-The 'abc' module in the Python library provides the infrastructure for defining custom abstract base classes. Abstract class cannot be instantiated in python. An Abstract method can be call by its subclasses"
   ]
  },
  {
   "cell_type": "code",
   "execution_count": null,
   "id": "488e04af-3149-4cd8-9ea2-055b4d72ab50",
   "metadata": {},
   "outputs": [],
   "source": [
    "# How can we achieve data abstraction?\n",
    "#Ans:-We can achieve data abstraction through Abstract classes and interfaces. Through abstract classes, you can achieve partial or complete abstraction as abstract classes contain methods that have an implementation which can result in partial abstraction."
   ]
  },
  {
   "cell_type": "code",
   "execution_count": null,
   "id": "84fa0445-18ac-4ca6-b7d0-bc4f74b013f6",
   "metadata": {},
   "outputs": [],
   "source": [
    "# Can we create an instance of an abstract class? Explain your answer.?\n",
    "#Ans:-Abstract classes cannot be instantiated, but they can be subclassed. When an abstract class is subclassed, the subclass usually provides implementations for all of the abstract methods in its parent class. However, if it does not, then the subclass must also be declared abstract "
   ]
  }
 ],
 "metadata": {
  "kernelspec": {
   "display_name": "Python 3 (ipykernel)",
   "language": "python",
   "name": "python3"
  },
  "language_info": {
   "codemirror_mode": {
    "name": "ipython",
    "version": 3
   },
   "file_extension": ".py",
   "mimetype": "text/x-python",
   "name": "python",
   "nbconvert_exporter": "python",
   "pygments_lexer": "ipython3",
   "version": "3.10.8"
  }
 },
 "nbformat": 4,
 "nbformat_minor": 5
}
